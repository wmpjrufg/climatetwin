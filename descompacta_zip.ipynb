{
 "cells": [
  {
   "cell_type": "code",
   "execution_count": 1,
   "id": "83070949",
   "metadata": {},
   "outputs": [],
   "source": [
    "import zipfile\n",
    "import os\n",
    "\n",
    "def descompactar_zip(caminho_zip):\n",
    "    if not zipfile.is_zipfile(caminho_zip):\n",
    "        print(\"O arquivo informado não é um arquivo .zip válido.\")\n",
    "        return\n",
    "\n",
    "    pasta_destino = os.path.dirname(caminho_zip)\n",
    "\n",
    "    with zipfile.ZipFile(caminho_zip, 'r') as zip_ref:\n",
    "        zip_ref.extractall(pasta_destino)\n",
    "        print(f\"Arquivos extraídos para: {pasta_destino}\")\n",
    "    "
   ]
  },
  {
   "cell_type": "code",
   "execution_count": 2,
   "id": "4ba7cbb4",
   "metadata": {},
   "outputs": [
    {
     "name": "stdout",
     "output_type": "stream",
     "text": [
      "Arquivos extraídos para: .\n"
     ]
    }
   ],
   "source": [
    "caminho_arquivo_zip = \"./teste_zip.zip\"  \n",
    "descompactar_zip(caminho_arquivo_zip)"
   ]
  },
  {
   "cell_type": "code",
   "execution_count": 3,
   "id": "e147e3cc",
   "metadata": {},
   "outputs": [],
   "source": [
    "import os\n",
    "import shutil\n",
    "\n",
    "def limpar_pasta(pasta):\n",
    "    if not os.path.isdir(pasta):\n",
    "        print(\"O caminho informado não é uma pasta válida.\")\n",
    "        return\n",
    "\n",
    "    for item in os.listdir(pasta):\n",
    "        caminho_item = os.path.join(pasta, item)\n",
    "        try:\n",
    "            if os.path.isfile(caminho_item) or os.path.islink(caminho_item):\n",
    "                os.remove(caminho_item)\n",
    "            elif os.path.isdir(caminho_item):\n",
    "                shutil.rmtree(caminho_item)\n",
    "        except Exception as e:\n",
    "            print(f\"Erro ao remover {caminho_item}: {e}\")\n",
    "\n",
    "    print(f\"Todo o conteúdo da pasta '{pasta}' foi removido.\")"
   ]
  },
  {
   "cell_type": "code",
   "execution_count": 4,
   "id": "0d974551",
   "metadata": {},
   "outputs": [
    {
     "name": "stdout",
     "output_type": "stream",
     "text": [
      "Todo o conteúdo da pasta './pasta_teste' foi removido.\n"
     ]
    }
   ],
   "source": [
    "caminho_pasta = \"./pasta_teste\"\n",
    "limpar_pasta(caminho_pasta)"
   ]
  }
 ],
 "metadata": {
  "kernelspec": {
   "display_name": "ambiente_clima",
   "language": "python",
   "name": "python3"
  },
  "language_info": {
   "codemirror_mode": {
    "name": "ipython",
    "version": 3
   },
   "file_extension": ".py",
   "mimetype": "text/x-python",
   "name": "python",
   "nbconvert_exporter": "python",
   "pygments_lexer": "ipython3",
   "version": "3.12.9"
  }
 },
 "nbformat": 4,
 "nbformat_minor": 5
}
